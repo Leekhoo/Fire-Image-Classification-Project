{
 "cells": [
  {
   "cell_type": "code",
   "execution_count": 27,
   "id": "4566d90a",
   "metadata": {},
   "outputs": [],
   "source": [
    "import os\n",
    "import requests\n",
    "import random "
   ]
  },
  {
   "cell_type": "code",
   "execution_count": 28,
   "id": "9d78f9b2",
   "metadata": {},
   "outputs": [],
   "source": [
    "# 네이버 이미지 검색 API 설정 및 불이 아닌 다른 이미지 검색\n",
    "client_id = \"__________\"\n",
    "client_secret = \"__________\"\n",
    "\n",
    "# 랜덤 키워드 리스트\n",
    "random_keywords = [\"개\", \"고양이\"]"
   ]
  },
  {
   "cell_type": "code",
   "execution_count": 29,
   "id": "88b71d50",
   "metadata": {},
   "outputs": [],
   "source": [
    "# 저장할 폴더 경로\n",
    "save_folder = \"/Users/leekyeongho/python/fire_project/non_fire_img\""
   ]
  },
  {
   "cell_type": "code",
   "execution_count": 30,
   "id": "d66737bb",
   "metadata": {},
   "outputs": [
    {
     "name": "stdout",
     "output_type": "stream",
     "text": [
      "/Users/leekyeongho/python/fire_project/non_fire_img 폴더 이미 존재\n"
     ]
    }
   ],
   "source": [
    "# 폴더 경로\n",
    "save_folder = '/Users/leekyeongho/python/fire_project/non_fire_img'\n",
    "\n",
    "# 폴더 생성\n",
    "if not os.path.exists(save_folder):\n",
    "    os.makedirs(save_folder)\n",
    "    print(f\"{save_folder} 폴더 생성 완료\")\n",
    "else:\n",
    "    print(f\"{save_folder} 폴더 이미 존재\")"
   ]
  },
  {
   "cell_type": "code",
   "execution_count": 31,
   "id": "fc04e1c4",
   "metadata": {},
   "outputs": [],
   "source": [
    "# 이미지 다운로드 함수\n",
    "def download_images(keyword, idx):\n",
    "    url = \"https://openapi.naver.com/v1/search/image\"\n",
    "    headers = {\n",
    "        \"X-Naver-Client-Id\": client_id,\n",
    "        \"X-Naver-Client-Secret\": client_secret\n",
    "    }\n",
    "    params = {\n",
    "        \"query\": keyword,\n",
    "        \"display\": 1,   # 각 키워드당 1개 이미지만 가져옴\n",
    "        \"start\": 1,\n",
    "        \"sort\": \"sim\"\n",
    "    }\n",
    "    response = requests.get(url, headers=headers, params=params)\n",
    "    data = response.json()\n",
    "\n",
    "    if 'items' in data:\n",
    "        item = data['items'][0]  # 첫 번째 이미지만 가져옴\n",
    "        image_url = item['link']\n",
    "        response = requests.get(image_url, stream=True)\n",
    "        if response.status_code == 200:\n",
    "            image_extension = os.path.splitext(image_url)[-1]  # 이미지 확장자\n",
    "            image_name = f\"non_fire_{idx}{image_extension}\"\n",
    "            save_path = os.path.join(save_folder, image_name)\n",
    "            with open(save_path, 'wb') as file:\n",
    "                for chunk in response.iter_content(chunk_size=8192):\n",
    "                    file.write(chunk)\n",
    "            print(f\"{image_name} 다운로드 완료\")\n",
    "        else:\n",
    "            print(f\"{image_url} 다운로드 실패:\", response.status_code)\n",
    "    else:\n",
    "        print(\"이미지 검색 결과 없음\")"
   ]
  },
  {
   "cell_type": "code",
   "execution_count": 33,
   "id": "99db2844",
   "metadata": {},
   "outputs": [
    {
     "name": "stdout",
     "output_type": "stream",
     "text": [
      "non_fire_1.3&ixid=M3wxMjA3fDB8MHxwaG90by1yZWxhdGVkfDl8fHxlbnwwfHx8fHw%3D&w=1000&q=80 다운로드 완료\n",
      "non_fire_2.3&ixid=M3wxMjA3fDB8MHxwaG90by1yZWxhdGVkfDl8fHxlbnwwfHx8fHw%3D&w=1000&q=80 다운로드 완료\n",
      "non_fire_3.jpg 다운로드 완료\n",
      "non_fire_4.3&ixid=M3wxMjA3fDB8MHxwaG90by1yZWxhdGVkfDl8fHxlbnwwfHx8fHw%3D&w=1000&q=80 다운로드 완료\n",
      "non_fire_5.jpg 다운로드 완료\n",
      "non_fire_6.3&ixid=M3wxMjA3fDB8MHxwaG90by1yZWxhdGVkfDl8fHxlbnwwfHx8fHw%3D&w=1000&q=80 다운로드 완료\n",
      "non_fire_7.jpg 다운로드 완료\n",
      "non_fire_8.jpg 다운로드 완료\n",
      "non_fire_9.jpg 다운로드 완료\n",
      "non_fire_10.3&ixid=M3wxMjA3fDB8MHxwaG90by1yZWxhdGVkfDl8fHxlbnwwfHx8fHw%3D&w=1000&q=80 다운로드 완료\n",
      "non_fire_11.3&ixid=M3wxMjA3fDB8MHxwaG90by1yZWxhdGVkfDl8fHxlbnwwfHx8fHw%3D&w=1000&q=80 다운로드 완료\n",
      "non_fire_12.jpg 다운로드 완료\n",
      "non_fire_13.jpg 다운로드 완료\n",
      "non_fire_14.3&ixid=M3wxMjA3fDB8MHxwaG90by1yZWxhdGVkfDl8fHxlbnwwfHx8fHw%3D&w=1000&q=80 다운로드 완료\n",
      "non_fire_15.3&ixid=M3wxMjA3fDB8MHxwaG90by1yZWxhdGVkfDl8fHxlbnwwfHx8fHw%3D&w=1000&q=80 다운로드 완료\n",
      "non_fire_16.3&ixid=M3wxMjA3fDB8MHxwaG90by1yZWxhdGVkfDl8fHxlbnwwfHx8fHw%3D&w=1000&q=80 다운로드 완료\n",
      "non_fire_17.3&ixid=M3wxMjA3fDB8MHxwaG90by1yZWxhdGVkfDl8fHxlbnwwfHx8fHw%3D&w=1000&q=80 다운로드 완료\n",
      "non_fire_18.jpg 다운로드 완료\n",
      "non_fire_19.3&ixid=M3wxMjA3fDB8MHxwaG90by1yZWxhdGVkfDl8fHxlbnwwfHx8fHw%3D&w=1000&q=80 다운로드 완료\n",
      "non_fire_20.3&ixid=M3wxMjA3fDB8MHxwaG90by1yZWxhdGVkfDl8fHxlbnwwfHx8fHw%3D&w=1000&q=80 다운로드 완료\n",
      "non_fire_21.jpg 다운로드 완료\n",
      "non_fire_22.3&ixid=M3wxMjA3fDB8MHxwaG90by1yZWxhdGVkfDl8fHxlbnwwfHx8fHw%3D&w=1000&q=80 다운로드 완료\n",
      "non_fire_23.jpg 다운로드 완료\n",
      "non_fire_24.3&ixid=M3wxMjA3fDB8MHxwaG90by1yZWxhdGVkfDl8fHxlbnwwfHx8fHw%3D&w=1000&q=80 다운로드 완료\n",
      "non_fire_25.3&ixid=M3wxMjA3fDB8MHxwaG90by1yZWxhdGVkfDl8fHxlbnwwfHx8fHw%3D&w=1000&q=80 다운로드 완료\n",
      "non_fire_26.3&ixid=M3wxMjA3fDB8MHxwaG90by1yZWxhdGVkfDl8fHxlbnwwfHx8fHw%3D&w=1000&q=80 다운로드 완료\n",
      "non_fire_27.3&ixid=M3wxMjA3fDB8MHxwaG90by1yZWxhdGVkfDl8fHxlbnwwfHx8fHw%3D&w=1000&q=80 다운로드 완료\n",
      "non_fire_28.jpg 다운로드 완료\n",
      "non_fire_29.jpg 다운로드 완료\n",
      "non_fire_30.3&ixid=M3wxMjA3fDB8MHxwaG90by1yZWxhdGVkfDl8fHxlbnwwfHx8fHw%3D&w=1000&q=80 다운로드 완료\n",
      "non_fire_31.3&ixid=M3wxMjA3fDB8MHxwaG90by1yZWxhdGVkfDl8fHxlbnwwfHx8fHw%3D&w=1000&q=80 다운로드 완료\n",
      "non_fire_32.3&ixid=M3wxMjA3fDB8MHxwaG90by1yZWxhdGVkfDl8fHxlbnwwfHx8fHw%3D&w=1000&q=80 다운로드 완료\n",
      "non_fire_33.jpg 다운로드 완료\n",
      "non_fire_34.3&ixid=M3wxMjA3fDB8MHxwaG90by1yZWxhdGVkfDl8fHxlbnwwfHx8fHw%3D&w=1000&q=80 다운로드 완료\n",
      "non_fire_35.3&ixid=M3wxMjA3fDB8MHxwaG90by1yZWxhdGVkfDl8fHxlbnwwfHx8fHw%3D&w=1000&q=80 다운로드 완료\n",
      "non_fire_36.3&ixid=M3wxMjA3fDB8MHxwaG90by1yZWxhdGVkfDl8fHxlbnwwfHx8fHw%3D&w=1000&q=80 다운로드 완료\n",
      "non_fire_37.3&ixid=M3wxMjA3fDB8MHxwaG90by1yZWxhdGVkfDl8fHxlbnwwfHx8fHw%3D&w=1000&q=80 다운로드 완료\n",
      "non_fire_38.3&ixid=M3wxMjA3fDB8MHxwaG90by1yZWxhdGVkfDl8fHxlbnwwfHx8fHw%3D&w=1000&q=80 다운로드 완료\n",
      "non_fire_39.3&ixid=M3wxMjA3fDB8MHxwaG90by1yZWxhdGVkfDl8fHxlbnwwfHx8fHw%3D&w=1000&q=80 다운로드 완료\n",
      "non_fire_40.jpg 다운로드 완료\n",
      "non_fire_41.3&ixid=M3wxMjA3fDB8MHxwaG90by1yZWxhdGVkfDl8fHxlbnwwfHx8fHw%3D&w=1000&q=80 다운로드 완료\n",
      "non_fire_42.jpg 다운로드 완료\n",
      "non_fire_43.jpg 다운로드 완료\n",
      "non_fire_44.3&ixid=M3wxMjA3fDB8MHxwaG90by1yZWxhdGVkfDl8fHxlbnwwfHx8fHw%3D&w=1000&q=80 다운로드 완료\n",
      "non_fire_45.3&ixid=M3wxMjA3fDB8MHxwaG90by1yZWxhdGVkfDl8fHxlbnwwfHx8fHw%3D&w=1000&q=80 다운로드 완료\n",
      "non_fire_46.3&ixid=M3wxMjA3fDB8MHxwaG90by1yZWxhdGVkfDl8fHxlbnwwfHx8fHw%3D&w=1000&q=80 다운로드 완료\n",
      "non_fire_47.3&ixid=M3wxMjA3fDB8MHxwaG90by1yZWxhdGVkfDl8fHxlbnwwfHx8fHw%3D&w=1000&q=80 다운로드 완료\n",
      "non_fire_48.3&ixid=M3wxMjA3fDB8MHxwaG90by1yZWxhdGVkfDl8fHxlbnwwfHx8fHw%3D&w=1000&q=80 다운로드 완료\n",
      "non_fire_49.jpg 다운로드 완료\n",
      "non_fire_50.jpg 다운로드 완료\n",
      "non_fire_51.jpg 다운로드 완료\n",
      "non_fire_52.jpg 다운로드 완료\n",
      "non_fire_53.jpg 다운로드 완료\n",
      "non_fire_54.3&ixid=M3wxMjA3fDB8MHxwaG90by1yZWxhdGVkfDl8fHxlbnwwfHx8fHw%3D&w=1000&q=80 다운로드 완료\n",
      "non_fire_55.3&ixid=M3wxMjA3fDB8MHxwaG90by1yZWxhdGVkfDl8fHxlbnwwfHx8fHw%3D&w=1000&q=80 다운로드 완료\n",
      "non_fire_56.jpg 다운로드 완료\n",
      "non_fire_57.3&ixid=M3wxMjA3fDB8MHxwaG90by1yZWxhdGVkfDl8fHxlbnwwfHx8fHw%3D&w=1000&q=80 다운로드 완료\n",
      "non_fire_58.3&ixid=M3wxMjA3fDB8MHxwaG90by1yZWxhdGVkfDl8fHxlbnwwfHx8fHw%3D&w=1000&q=80 다운로드 완료\n",
      "non_fire_59.jpg 다운로드 완료\n",
      "non_fire_60.3&ixid=M3wxMjA3fDB8MHxwaG90by1yZWxhdGVkfDl8fHxlbnwwfHx8fHw%3D&w=1000&q=80 다운로드 완료\n",
      "non_fire_61.3&ixid=M3wxMjA3fDB8MHxwaG90by1yZWxhdGVkfDl8fHxlbnwwfHx8fHw%3D&w=1000&q=80 다운로드 완료\n",
      "non_fire_62.jpg 다운로드 완료\n",
      "non_fire_63.3&ixid=M3wxMjA3fDB8MHxwaG90by1yZWxhdGVkfDl8fHxlbnwwfHx8fHw%3D&w=1000&q=80 다운로드 완료\n",
      "non_fire_64.jpg 다운로드 완료\n",
      "non_fire_65.jpg 다운로드 완료\n",
      "non_fire_66.3&ixid=M3wxMjA3fDB8MHxwaG90by1yZWxhdGVkfDl8fHxlbnwwfHx8fHw%3D&w=1000&q=80 다운로드 완료\n",
      "non_fire_67.jpg 다운로드 완료\n",
      "non_fire_68.jpg 다운로드 완료\n",
      "non_fire_69.3&ixid=M3wxMjA3fDB8MHxwaG90by1yZWxhdGVkfDl8fHxlbnwwfHx8fHw%3D&w=1000&q=80 다운로드 완료\n",
      "non_fire_70.jpg 다운로드 완료\n",
      "non_fire_71.3&ixid=M3wxMjA3fDB8MHxwaG90by1yZWxhdGVkfDl8fHxlbnwwfHx8fHw%3D&w=1000&q=80 다운로드 완료\n",
      "non_fire_72.3&ixid=M3wxMjA3fDB8MHxwaG90by1yZWxhdGVkfDl8fHxlbnwwfHx8fHw%3D&w=1000&q=80 다운로드 완료\n",
      "non_fire_73.jpg 다운로드 완료\n",
      "non_fire_74.jpg 다운로드 완료\n",
      "non_fire_75.3&ixid=M3wxMjA3fDB8MHxwaG90by1yZWxhdGVkfDl8fHxlbnwwfHx8fHw%3D&w=1000&q=80 다운로드 완료\n",
      "non_fire_76.jpg 다운로드 완료\n",
      "non_fire_77.jpg 다운로드 완료\n",
      "non_fire_78.3&ixid=M3wxMjA3fDB8MHxwaG90by1yZWxhdGVkfDl8fHxlbnwwfHx8fHw%3D&w=1000&q=80 다운로드 완료\n",
      "non_fire_79.3&ixid=M3wxMjA3fDB8MHxwaG90by1yZWxhdGVkfDl8fHxlbnwwfHx8fHw%3D&w=1000&q=80 다운로드 완료\n",
      "non_fire_80.3&ixid=M3wxMjA3fDB8MHxwaG90by1yZWxhdGVkfDl8fHxlbnwwfHx8fHw%3D&w=1000&q=80 다운로드 완료\n",
      "non_fire_81.3&ixid=M3wxMjA3fDB8MHxwaG90by1yZWxhdGVkfDl8fHxlbnwwfHx8fHw%3D&w=1000&q=80 다운로드 완료\n",
      "non_fire_82.jpg 다운로드 완료\n",
      "non_fire_83.jpg 다운로드 완료\n",
      "non_fire_84.3&ixid=M3wxMjA3fDB8MHxwaG90by1yZWxhdGVkfDl8fHxlbnwwfHx8fHw%3D&w=1000&q=80 다운로드 완료\n",
      "non_fire_85.3&ixid=M3wxMjA3fDB8MHxwaG90by1yZWxhdGVkfDl8fHxlbnwwfHx8fHw%3D&w=1000&q=80 다운로드 완료\n",
      "non_fire_86.3&ixid=M3wxMjA3fDB8MHxwaG90by1yZWxhdGVkfDl8fHxlbnwwfHx8fHw%3D&w=1000&q=80 다운로드 완료\n",
      "non_fire_87.3&ixid=M3wxMjA3fDB8MHxwaG90by1yZWxhdGVkfDl8fHxlbnwwfHx8fHw%3D&w=1000&q=80 다운로드 완료\n",
      "non_fire_88.jpg 다운로드 완료\n",
      "non_fire_89.3&ixid=M3wxMjA3fDB8MHxwaG90by1yZWxhdGVkfDl8fHxlbnwwfHx8fHw%3D&w=1000&q=80 다운로드 완료\n",
      "non_fire_90.jpg 다운로드 완료\n",
      "non_fire_91.3&ixid=M3wxMjA3fDB8MHxwaG90by1yZWxhdGVkfDl8fHxlbnwwfHx8fHw%3D&w=1000&q=80 다운로드 완료\n",
      "non_fire_92.jpg 다운로드 완료\n",
      "non_fire_93.jpg 다운로드 완료\n",
      "non_fire_94.3&ixid=M3wxMjA3fDB8MHxwaG90by1yZWxhdGVkfDl8fHxlbnwwfHx8fHw%3D&w=1000&q=80 다운로드 완료\n",
      "non_fire_95.jpg 다운로드 완료\n",
      "non_fire_96.3&ixid=M3wxMjA3fDB8MHxwaG90by1yZWxhdGVkfDl8fHxlbnwwfHx8fHw%3D&w=1000&q=80 다운로드 완료\n",
      "non_fire_97.3&ixid=M3wxMjA3fDB8MHxwaG90by1yZWxhdGVkfDl8fHxlbnwwfHx8fHw%3D&w=1000&q=80 다운로드 완료\n",
      "non_fire_98.3&ixid=M3wxMjA3fDB8MHxwaG90by1yZWxhdGVkfDl8fHxlbnwwfHx8fHw%3D&w=1000&q=80 다운로드 완료\n",
      "non_fire_99.3&ixid=M3wxMjA3fDB8MHxwaG90by1yZWxhdGVkfDl8fHxlbnwwfHx8fHw%3D&w=1000&q=80 다운로드 완료\n"
     ]
    }
   ],
   "source": [
    "# 랜덤한 키워드로 이미지 다운로드\n",
    "for idx in range(1, 100):  # 100개 이미지 다운로드\n",
    "    random_keyword = random.choice(random_keywords)\n",
    "    download_images(random_keyword, idx)  # 이미지 다운로드 함수 호출"
   ]
  },
  {
   "cell_type": "code",
   "execution_count": null,
   "id": "5755d983",
   "metadata": {},
   "outputs": [],
   "source": []
  }
 ],
 "metadata": {
  "kernelspec": {
   "display_name": "Python 3 (ipykernel)",
   "language": "python",
   "name": "python3"
  },
  "language_info": {
   "codemirror_mode": {
    "name": "ipython",
    "version": 3
   },
   "file_extension": ".py",
   "mimetype": "text/x-python",
   "name": "python",
   "nbconvert_exporter": "python",
   "pygments_lexer": "ipython3",
   "version": "3.11.4"
  }
 },
 "nbformat": 4,
 "nbformat_minor": 5
}
