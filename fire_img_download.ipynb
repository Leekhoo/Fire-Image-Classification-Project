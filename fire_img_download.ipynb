{
 "cells": [
  {
   "cell_type": "code",
   "execution_count": 15,
   "id": "aaf9c860",
   "metadata": {},
   "outputs": [],
   "source": [
    "import os\n",
    "import requests"
   ]
  },
  {
   "cell_type": "code",
   "execution_count": 16,
   "id": "93803f86",
   "metadata": {},
   "outputs": [],
   "source": [
    "# 네이버 검색 API 설정\n",
    "client_id = \"_________\"\n",
    "client_secret = \"_________\"\n",
    "search_keyword = \"화재\""
   ]
  },
  {
   "cell_type": "code",
   "execution_count": 17,
   "id": "c3a5e809",
   "metadata": {},
   "outputs": [],
   "source": [
    "# 저장할 폴더 경로\n",
    "save_folder = \"/Users/leekyeongho/python/fire_project/fire_img\""
   ]
  },
  {
   "cell_type": "code",
   "execution_count": 18,
   "id": "87ffb423",
   "metadata": {},
   "outputs": [
    {
     "name": "stdout",
     "output_type": "stream",
     "text": [
      "/Users/leekyeongho/python/fire_project/fire_img 폴더 이미 존재\n"
     ]
    }
   ],
   "source": [
    "# 폴더 경로\n",
    "save_folder = '/Users/leekyeongho/python/fire_project/fire_img'\n",
    "\n",
    "# 폴더 생성\n",
    "if not os.path.exists(save_folder):\n",
    "    os.makedirs(save_folder)\n",
    "    print(f\"{save_folder} 폴더 생성 완료\")\n",
    "else:\n",
    "    print(f\"{save_folder} 폴더 이미 존재\")"
   ]
  },
  {
   "cell_type": "code",
   "execution_count": 28,
   "id": "dce4e15e",
   "metadata": {},
   "outputs": [],
   "source": [
    "# 이미지 검색 API 호출\n",
    "url = \"https://openapi.naver.com/v1/search/image\"\n",
    "headers = {\n",
    "    \"X-Naver-Client-Id\": client_id,\n",
    "    \"X-Naver-Client-Secret\": client_secret\n",
    "}\n",
    "params = {\n",
    "    \"query\": search_keyword,\n",
    "    \"display\": 100,  # 가져올 이미지 개수\n",
    "    \"start\": 1,     # 시작 위치\n",
    "    \"sort\": \"sim\"   # 유사도 순으로 정렬\n",
    "}\n",
    "response = requests.get(url, headers=headers, params=params)\n",
    "data = response.json()"
   ]
  },
  {
   "cell_type": "code",
   "execution_count": 29,
   "id": "de2f662b",
   "metadata": {},
   "outputs": [
    {
     "name": "stdout",
     "output_type": "stream",
     "text": [
      "fire_1.jpg 다운로드 완료\n",
      "fire_2.jpg 다운로드 완료\n",
      "fire_3.jpg 다운로드 완료\n",
      "fire_4.JPG 다운로드 완료\n",
      "fire_5.jpg 다운로드 완료\n",
      "fire_6.jpg 다운로드 완료\n",
      "fire_7.jpg 다운로드 완료\n",
      "fire_8.jpg 다운로드 완료\n",
      "fire_9.jpg 다운로드 완료\n",
      "fire_10.jpg 다운로드 완료\n",
      "fire_11.jpg 다운로드 완료\n",
      "fire_12.jpg 다운로드 완료\n",
      "fire_13.jpg 다운로드 완료\n",
      "fire_14.jpg 다운로드 완료\n",
      "fire_15.jpg 다운로드 완료\n",
      "fire_16.jpg 다운로드 완료\n",
      "fire_17.jpg 다운로드 완료\n",
      "fire_18.jpg 다운로드 완료\n",
      "fire_19.jpg 다운로드 완료\n",
      "fire_20.png 다운로드 완료\n",
      "fire_21.jpg 다운로드 완료\n",
      "fire_22.jpg 다운로드 완료\n",
      "fire_23.jpg 다운로드 완료\n",
      "fire_24.jpg 다운로드 완료\n",
      "fire_25.jpg 다운로드 완료\n",
      "fire_26.jpg 다운로드 완료\n",
      "fire_27.jpg 다운로드 완료\n",
      "fire_28.jpg 다운로드 완료\n",
      "fire_29.jpg 다운로드 완료\n",
      "fire_30.jpg 다운로드 완료\n",
      "fire_31.jpg 다운로드 완료\n",
      "fire_32.jpg 다운로드 완료\n",
      "fire_33.jpg 다운로드 완료\n",
      "fire_34.jpg 다운로드 완료\n",
      "fire_35.jpg 다운로드 완료\n",
      "fire_36.jpg 다운로드 완료\n",
      "fire_37.jpg 다운로드 완료\n",
      "fire_38.jpg 다운로드 완료\n",
      "fire_39.jpg 다운로드 완료\n",
      "fire_40.jpg 다운로드 완료\n",
      "fire_41.jpg 다운로드 완료\n",
      "fire_42.jpg 다운로드 완료\n",
      "fire_43.jpg 다운로드 완료\n",
      "fire_44.jpg 다운로드 완료\n",
      "fire_45.jpg 다운로드 완료\n",
      "fire_46.jpg 다운로드 완료\n",
      "fire_47.jpg 다운로드 완료\n",
      "fire_48.jpg 다운로드 완료\n",
      "fire_49.png 다운로드 완료\n",
      "fire_50.jpg 다운로드 완료\n",
      "fire_51.jpg 다운로드 완료\n",
      "fire_52.jpg 다운로드 완료\n",
      "fire_53.jpg 다운로드 완료\n",
      "fire_54.jpg 다운로드 완료\n",
      "fire_55.jpg 다운로드 완료\n",
      "fire_56.jpg 다운로드 완료\n",
      "fire_57.jpg 다운로드 완료\n",
      "fire_58.jpg 다운로드 완료\n",
      "fire_59.jpg 다운로드 완료\n",
      "fire_60.jpg 다운로드 완료\n",
      "fire_61.jpg 다운로드 완료\n",
      "fire_62.jpg 다운로드 완료\n",
      "fire_63.jpg 다운로드 완료\n",
      "fire_64.jpg 다운로드 완료\n",
      "fire_65.jpg 다운로드 완료\n",
      "fire_66.jpg 다운로드 완료\n",
      "fire_67.jpg 다운로드 완료\n",
      "fire_68.jpg 다운로드 완료\n",
      "fire_69.jpg 다운로드 완료\n",
      "fire_70.jpg 다운로드 완료\n",
      "fire_71.jpg 다운로드 완료\n",
      "fire_72.jpg 다운로드 완료\n",
      "fire_73.jpg 다운로드 완료\n",
      "fire_74.jpg 다운로드 완료\n",
      "fire_75.jpg 다운로드 완료\n",
      "fire_76.jpg 다운로드 완료\n",
      "fire_77.jpg 다운로드 완료\n",
      "fire_78.jpg 다운로드 완료\n",
      "fire_79.jpg 다운로드 완료\n",
      "fire_80.jpg 다운로드 완료\n",
      "fire_81.jpg 다운로드 완료\n",
      "fire_82.jpg 다운로드 완료\n",
      "fire_83.jpg 다운로드 완료\n",
      "fire_84.jpg 다운로드 완료\n",
      "fire_85.jpg 다운로드 완료\n",
      "fire_86.jpg 다운로드 완료\n",
      "fire_87.jpg 다운로드 완료\n",
      "fire_88.jpg 다운로드 완료\n",
      "fire_89.jpg 다운로드 완료\n",
      "fire_90.jpg 다운로드 완료\n",
      "fire_91.jpg 다운로드 완료\n",
      "fire_92.jpg 다운로드 완료\n",
      "fire_93.jpg 다운로드 완료\n",
      "fire_94.jpg 다운로드 완료\n",
      "fire_95.jpg 다운로드 완료\n",
      "fire_96.jpg 다운로드 완료\n",
      "fire_97.jpg 다운로드 완료\n",
      "fire_98.jpg 다운로드 완료\n",
      "fire_99.jpg 다운로드 완료\n",
      "fire_100.jpg 다운로드 완료\n"
     ]
    }
   ],
   "source": [
    "# 이미지 다운로드\n",
    "if 'items' in data:\n",
    "    for idx, item in enumerate(data['items'], start=1):\n",
    "        image_url = item['link']\n",
    "        response = requests.get(image_url, stream=True)\n",
    "        if response.status_code == 200:\n",
    "            image_extension = os.path.splitext(image_url)[-1]  # 이미지 확장자\n",
    "            image_name = f\"fire_{idx}{image_extension}\"\n",
    "            save_path = os.path.join(save_folder, image_name)\n",
    "            with open(save_path, 'wb') as file:\n",
    "                for chunk in response.iter_content(chunk_size=8192):\n",
    "                    file.write(chunk)\n",
    "            print(f\"{image_name} 다운로드 완료\")\n",
    "        else:\n",
    "            print(f\"{image_url} 다운로드 실패:\", response.status_code)\n",
    "else:\n",
    "    print(\"이미지 검색 결과 없음\")"
   ]
  },
  {
   "cell_type": "code",
   "execution_count": null,
   "id": "e1280f59",
   "metadata": {},
   "outputs": [],
   "source": []
  }
 ],
 "metadata": {
  "kernelspec": {
   "display_name": "Python 3 (ipykernel)",
   "language": "python",
   "name": "python3"
  },
  "language_info": {
   "codemirror_mode": {
    "name": "ipython",
    "version": 3
   },
   "file_extension": ".py",
   "mimetype": "text/x-python",
   "name": "python",
   "nbconvert_exporter": "python",
   "pygments_lexer": "ipython3",
   "version": "3.11.4"
  }
 },
 "nbformat": 4,
 "nbformat_minor": 5
}
