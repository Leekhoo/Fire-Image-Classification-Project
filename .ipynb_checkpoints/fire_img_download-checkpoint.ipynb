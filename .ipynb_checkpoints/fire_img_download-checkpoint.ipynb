{
 "cells": [
  {
   "cell_type": "code",
   "execution_count": 9,
   "id": "aaf9c860",
   "metadata": {},
   "outputs": [],
   "source": [
    "import os\n",
    "import requests"
   ]
  },
  {
   "cell_type": "code",
   "execution_count": 10,
   "id": "93803f86",
   "metadata": {},
   "outputs": [],
   "source": [
    "# 네이버 검색 API 설정\n",
    "client_id = \"tXsTu3r9EslMT0tkioVB\"\n",
    "client_secret = \"qXR7d0OGoT\"\n",
    "search_keyword = \"화재\""
   ]
  },
  {
   "cell_type": "code",
   "execution_count": 11,
   "id": "c3a5e809",
   "metadata": {},
   "outputs": [],
   "source": [
    "# 저장할 폴더 경로\n",
    "save_folder = \"/Users/leekyeongho/python/fire_project/fire_img\""
   ]
  },
  {
   "cell_type": "code",
   "execution_count": 12,
   "id": "87ffb423",
   "metadata": {},
   "outputs": [
    {
     "name": "stdout",
     "output_type": "stream",
     "text": [
      "/Users/leekyeongho/python/fire_project/fire_img 폴더 이미 존재\n"
     ]
    }
   ],
   "source": [
    "import os\n",
    "\n",
    "# 폴더 경로\n",
    "save_folder = '/Users/leekyeongho/python/fire_project/fire_img'\n",
    "\n",
    "# 폴더 생성\n",
    "if not os.path.exists(save_folder):\n",
    "    os.makedirs(save_folder)\n",
    "    print(f\"{save_folder} 폴더 생성 완료\")\n",
    "else:\n",
    "    print(f\"{save_folder} 폴더 이미 존재\")"
   ]
  },
  {
   "cell_type": "code",
   "execution_count": 13,
   "id": "dce4e15e",
   "metadata": {},
   "outputs": [],
   "source": [
    "# 이미지 검색 API 호출\n",
    "url = \"https://openapi.naver.com/v1/search/image\"\n",
    "headers = {\n",
    "    \"X-Naver-Client-Id\": client_id,\n",
    "    \"X-Naver-Client-Secret\": client_secret\n",
    "}\n",
    "params = {\n",
    "    \"query\": search_keyword,\n",
    "    \"display\": 10,  # 가져올 이미지 개수\n",
    "    \"start\": 1,     # 시작 위치\n",
    "    \"sort\": \"sim\"   # 유사도 순으로 정렬\n",
    "}\n",
    "response = requests.get(url, headers=headers, params=params)\n",
    "data = response.json()"
   ]
  },
  {
   "cell_type": "code",
   "execution_count": 14,
   "id": "de2f662b",
   "metadata": {},
   "outputs": [
    {
     "name": "stdout",
     "output_type": "stream",
     "text": [
      "fire_1.jpg 다운로드 완료\n",
      "fire_2.jpg 다운로드 완료\n",
      "fire_3.jpg 다운로드 완료\n",
      "fire_4.JPG 다운로드 완료\n",
      "fire_5.jpg 다운로드 완료\n",
      "fire_6.jpg 다운로드 완료\n",
      "fire_7.jpg 다운로드 완료\n",
      "fire_8.jpg 다운로드 완료\n",
      "fire_9.jpg 다운로드 완료\n",
      "fire_10.jpg 다운로드 완료\n"
     ]
    }
   ],
   "source": [
    "# 이미지 다운로드\n",
    "if 'items' in data:\n",
    "    for idx, item in enumerate(data['items'], start=1):\n",
    "        image_url = item['link']\n",
    "        response = requests.get(image_url, stream=True)\n",
    "        if response.status_code == 200:\n",
    "            image_extension = os.path.splitext(image_url)[-1]  # 이미지 확장자\n",
    "            image_name = f\"fire_{idx}{image_extension}\"\n",
    "            save_path = os.path.join(save_folder, image_name)\n",
    "            with open(save_path, 'wb') as file:\n",
    "                for chunk in response.iter_content(chunk_size=8192):\n",
    "                    file.write(chunk)\n",
    "            print(f\"{image_name} 다운로드 완료\")\n",
    "        else:\n",
    "            print(f\"{image_url} 다운로드 실패:\", response.status_code)\n",
    "else:\n",
    "    print(\"이미지 검색 결과 없음\")"
   ]
  },
  {
   "cell_type": "code",
   "execution_count": null,
   "id": "e1280f59",
   "metadata": {},
   "outputs": [],
   "source": []
  }
 ],
 "metadata": {
  "kernelspec": {
   "display_name": "Python 3 (ipykernel)",
   "language": "python",
   "name": "python3"
  },
  "language_info": {
   "codemirror_mode": {
    "name": "ipython",
    "version": 3
   },
   "file_extension": ".py",
   "mimetype": "text/x-python",
   "name": "python",
   "nbconvert_exporter": "python",
   "pygments_lexer": "ipython3",
   "version": "3.11.4"
  }
 },
 "nbformat": 4,
 "nbformat_minor": 5
}
