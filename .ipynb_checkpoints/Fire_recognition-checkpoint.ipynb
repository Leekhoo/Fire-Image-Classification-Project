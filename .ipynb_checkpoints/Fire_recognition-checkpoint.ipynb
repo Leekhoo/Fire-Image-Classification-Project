{
 "cells": [
  {
   "cell_type": "code",
   "execution_count": 2,
   "id": "7da0227d",
   "metadata": {},
   "outputs": [
    {
     "name": "stdout",
     "output_type": "stream",
     "text": [
      "Requirement already satisfied: opencv-python in /Users/leekyeongho/anaconda3/lib/python3.11/site-packages (4.8.0.76)\n",
      "Requirement already satisfied: numpy>=1.21.2 in /Users/leekyeongho/anaconda3/lib/python3.11/site-packages (from opencv-python) (1.24.3)\n",
      "Note: you may need to restart the kernel to use updated packages.\n"
     ]
    }
   ],
   "source": [
    "pip install opencv-python"
   ]
  },
  {
   "cell_type": "code",
   "execution_count": 29,
   "id": "35e6cba0",
   "metadata": {},
   "outputs": [],
   "source": [
    "import os\n",
    "import cv2\n",
    "import numpy as np\n",
    "from sklearn.cluster import KMeans\n",
    "from sklearn.preprocessing import StandardScaler\n",
    "from sklearn.ensemble import RandomForestClassifier"
   ]
  },
  {
   "cell_type": "code",
   "execution_count": 31,
   "id": "05f100e5",
   "metadata": {},
   "outputs": [],
   "source": [
    "# 이미지 데이터를 로드하고 특징 벡터로 변환하는 함수\n",
    "def load_and_embed_images(folder, num_clusters, target_size):\n",
    "    images = []\n",
    "    for filename in os.listdir(folder):\n",
    "        if filename.endswith((\".jpg\", \".jpeg\", \".png\")):\n",
    "            image_path = os.path.join(folder, filename)\n",
    "            image = cv2.imread(image_path, cv2.IMREAD_COLOR)\n",
    "            image_resized = cv2.resize(image, target_size)\n",
    "            image_flatten = image_resized.flatten()  # 이미지를 1차원 벡터로 변환\n",
    "            images.append(image_flatten)\n",
    "    images = np.array(images)\n",
    "    kmeans = KMeans(n_clusters=num_clusters)\n",
    "    embeddings = kmeans.fit_transform(images)\n",
    "    return embeddings"
   ]
  },
  {
   "cell_type": "code",
   "execution_count": 32,
   "id": "8c7a6d8d",
   "metadata": {},
   "outputs": [],
   "source": [
    "# 불 이미지 폴더와 비불 이미지 폴더에서 특징 벡터 추출\n",
    "fire_data_folder = \"/Users/leekyeongho/python/fire_project/fire_img\"\n",
    "non_fire_data_folder = \"/Users/leekyeongho/python/fire_project/non_fire_img\"\n",
    "num_clusters = 3  # 클러스터 개수\n",
    "target_size = (128, 128)  # 이미지 크기"
   ]
  },
  {
   "cell_type": "code",
   "execution_count": 33,
   "id": "a8824a4f",
   "metadata": {},
   "outputs": [
    {
     "name": "stderr",
     "output_type": "stream",
     "text": [
      "/Users/leekyeongho/anaconda3/lib/python3.11/site-packages/sklearn/cluster/_kmeans.py:1412: FutureWarning: The default value of `n_init` will change from 10 to 'auto' in 1.4. Set the value of `n_init` explicitly to suppress the warning\n",
      "  super()._check_params_vs_input(X, default_n_init=10)\n",
      "libpng warning: iCCP: known incorrect sRGB profile\n",
      "/Users/leekyeongho/anaconda3/lib/python3.11/site-packages/sklearn/cluster/_kmeans.py:1412: FutureWarning: The default value of `n_init` will change from 10 to 'auto' in 1.4. Set the value of `n_init` explicitly to suppress the warning\n",
      "  super()._check_params_vs_input(X, default_n_init=10)\n"
     ]
    }
   ],
   "source": [
    "fire_embeddings = load_and_embed_images(fire_data_folder, num_clusters, target_size)\n",
    "non_fire_embeddings = load_and_embed_images(non_fire_data_folder, num_clusters, target_size)"
   ]
  },
  {
   "cell_type": "code",
   "execution_count": 34,
   "id": "24dcae65",
   "metadata": {},
   "outputs": [],
   "source": [
    "# 불 이미지와 비불 이미지에 대한 라벨 생성\n",
    "num_fire_images = len(fire_embeddings)\n",
    "num_non_fire_images = len(non_fire_embeddings)\n",
    "labels_fire = np.ones(num_fire_images)\n",
    "labels_non_fire = np.zeros(num_non_fire_images)\n",
    "labels = np.concatenate((labels_fire, labels_non_fire))"
   ]
  },
  {
   "cell_type": "code",
   "execution_count": 35,
   "id": "8da7c086",
   "metadata": {},
   "outputs": [],
   "source": [
    "# 불 이미지와 비불 이미지를 합친 후 섞기\n",
    "all_embeddings = np.concatenate((fire_embeddings, non_fire_embeddings))\n",
    "all_labels = np.concatenate((labels_fire, labels_non_fire))\n",
    "shuffle_indices = np.arange(len(all_embeddings))\n",
    "np.random.shuffle(shuffle_indices)\n",
    "all_embeddings = all_embeddings[shuffle_indices]\n",
    "all_labels = all_labels[shuffle_indices]"
   ]
  },
  {
   "cell_type": "code",
   "execution_count": 36,
   "id": "8d954400",
   "metadata": {},
   "outputs": [
    {
     "data": {
      "text/html": [
       "<style>#sk-container-id-6 {color: black;}#sk-container-id-6 pre{padding: 0;}#sk-container-id-6 div.sk-toggleable {background-color: white;}#sk-container-id-6 label.sk-toggleable__label {cursor: pointer;display: block;width: 100%;margin-bottom: 0;padding: 0.3em;box-sizing: border-box;text-align: center;}#sk-container-id-6 label.sk-toggleable__label-arrow:before {content: \"▸\";float: left;margin-right: 0.25em;color: #696969;}#sk-container-id-6 label.sk-toggleable__label-arrow:hover:before {color: black;}#sk-container-id-6 div.sk-estimator:hover label.sk-toggleable__label-arrow:before {color: black;}#sk-container-id-6 div.sk-toggleable__content {max-height: 0;max-width: 0;overflow: hidden;text-align: left;background-color: #f0f8ff;}#sk-container-id-6 div.sk-toggleable__content pre {margin: 0.2em;color: black;border-radius: 0.25em;background-color: #f0f8ff;}#sk-container-id-6 input.sk-toggleable__control:checked~div.sk-toggleable__content {max-height: 200px;max-width: 100%;overflow: auto;}#sk-container-id-6 input.sk-toggleable__control:checked~label.sk-toggleable__label-arrow:before {content: \"▾\";}#sk-container-id-6 div.sk-estimator input.sk-toggleable__control:checked~label.sk-toggleable__label {background-color: #d4ebff;}#sk-container-id-6 div.sk-label input.sk-toggleable__control:checked~label.sk-toggleable__label {background-color: #d4ebff;}#sk-container-id-6 input.sk-hidden--visually {border: 0;clip: rect(1px 1px 1px 1px);clip: rect(1px, 1px, 1px, 1px);height: 1px;margin: -1px;overflow: hidden;padding: 0;position: absolute;width: 1px;}#sk-container-id-6 div.sk-estimator {font-family: monospace;background-color: #f0f8ff;border: 1px dotted black;border-radius: 0.25em;box-sizing: border-box;margin-bottom: 0.5em;}#sk-container-id-6 div.sk-estimator:hover {background-color: #d4ebff;}#sk-container-id-6 div.sk-parallel-item::after {content: \"\";width: 100%;border-bottom: 1px solid gray;flex-grow: 1;}#sk-container-id-6 div.sk-label:hover label.sk-toggleable__label {background-color: #d4ebff;}#sk-container-id-6 div.sk-serial::before {content: \"\";position: absolute;border-left: 1px solid gray;box-sizing: border-box;top: 0;bottom: 0;left: 50%;z-index: 0;}#sk-container-id-6 div.sk-serial {display: flex;flex-direction: column;align-items: center;background-color: white;padding-right: 0.2em;padding-left: 0.2em;position: relative;}#sk-container-id-6 div.sk-item {position: relative;z-index: 1;}#sk-container-id-6 div.sk-parallel {display: flex;align-items: stretch;justify-content: center;background-color: white;position: relative;}#sk-container-id-6 div.sk-item::before, #sk-container-id-6 div.sk-parallel-item::before {content: \"\";position: absolute;border-left: 1px solid gray;box-sizing: border-box;top: 0;bottom: 0;left: 50%;z-index: -1;}#sk-container-id-6 div.sk-parallel-item {display: flex;flex-direction: column;z-index: 1;position: relative;background-color: white;}#sk-container-id-6 div.sk-parallel-item:first-child::after {align-self: flex-end;width: 50%;}#sk-container-id-6 div.sk-parallel-item:last-child::after {align-self: flex-start;width: 50%;}#sk-container-id-6 div.sk-parallel-item:only-child::after {width: 0;}#sk-container-id-6 div.sk-dashed-wrapped {border: 1px dashed gray;margin: 0 0.4em 0.5em 0.4em;box-sizing: border-box;padding-bottom: 0.4em;background-color: white;}#sk-container-id-6 div.sk-label label {font-family: monospace;font-weight: bold;display: inline-block;line-height: 1.2em;}#sk-container-id-6 div.sk-label-container {text-align: center;}#sk-container-id-6 div.sk-container {/* jupyter's `normalize.less` sets `[hidden] { display: none; }` but bootstrap.min.css set `[hidden] { display: none !important; }` so we also need the `!important` here to be able to override the default hidden behavior on the sphinx rendered scikit-learn.org. See: https://github.com/scikit-learn/scikit-learn/issues/21755 */display: inline-block !important;position: relative;}#sk-container-id-6 div.sk-text-repr-fallback {display: none;}</style><div id=\"sk-container-id-6\" class=\"sk-top-container\"><div class=\"sk-text-repr-fallback\"><pre>RandomForestClassifier(random_state=0)</pre><b>In a Jupyter environment, please rerun this cell to show the HTML representation or trust the notebook. <br />On GitHub, the HTML representation is unable to render, please try loading this page with nbviewer.org.</b></div><div class=\"sk-container\" hidden><div class=\"sk-item\"><div class=\"sk-estimator sk-toggleable\"><input class=\"sk-toggleable__control sk-hidden--visually\" id=\"sk-estimator-id-6\" type=\"checkbox\" checked><label for=\"sk-estimator-id-6\" class=\"sk-toggleable__label sk-toggleable__label-arrow\">RandomForestClassifier</label><div class=\"sk-toggleable__content\"><pre>RandomForestClassifier(random_state=0)</pre></div></div></div></div></div>"
      ],
      "text/plain": [
       "RandomForestClassifier(random_state=0)"
      ]
     },
     "execution_count": 36,
     "metadata": {},
     "output_type": "execute_result"
    }
   ],
   "source": [
    "# 랜덤 포레스트 분류기 학습\n",
    "clf = RandomForestClassifier(random_state=0)\n",
    "clf.fit(all_embeddings, all_labels)"
   ]
  },
  {
   "cell_type": "code",
   "execution_count": 38,
   "id": "49094a76",
   "metadata": {},
   "outputs": [
    {
     "name": "stderr",
     "output_type": "stream",
     "text": [
      "/Users/leekyeongho/anaconda3/lib/python3.11/site-packages/sklearn/cluster/_kmeans.py:1412: FutureWarning: The default value of `n_init` will change from 10 to 'auto' in 1.4. Set the value of `n_init` explicitly to suppress the warning\n",
      "  super()._check_params_vs_input(X, default_n_init=10)\n"
     ]
    }
   ],
   "source": [
    "# 새로운 이미지 폴더에서 분류 및 예측\n",
    "new_image_folder = \"/Users/leekyeongho/python/fire_project/new_fire_img\"\n",
    "new_embeddings = load_and_embed_images(new_image_folder, num_clusters, target_size)\n",
    "new_predictions = clf.predict_proba(new_embeddings)[:, 1] * 100"
   ]
  },
  {
   "cell_type": "code",
   "execution_count": 39,
   "id": "3ab9f743",
   "metadata": {},
   "outputs": [
    {
     "name": "stdout",
     "output_type": "stream",
     "text": [
      "Image 1: 확률 99.00%\n",
      "Image 2: 확률 100.00%\n",
      "Image 3: 확률 53.00%\n",
      "Image 4: 확률 58.00%\n",
      "Image 5: 확률 100.00%\n",
      "Image 6: 확률 100.00%\n",
      "Image 7: 확률 94.00%\n",
      "Image 8: 확률 57.00%\n",
      "Image 9: 확률 100.00%\n",
      "Image 10: 확률 50.00%\n",
      "Image 11: 확률 93.00%\n",
      "Image 12: 확률 100.00%\n",
      "Image 13: 확률 100.00%\n",
      "Image 14: 확률 100.00%\n",
      "Image 15: 확률 99.00%\n",
      "Image 16: 확률 52.00%\n",
      "Image 17: 확률 43.00%\n"
     ]
    }
   ],
   "source": [
    "# 결과 출력\n",
    "for i, prediction in enumerate(new_predictions):\n",
    "    print(f\"Image {i+1}: 확률 {prediction:.2f}%\")"
   ]
  },
  {
   "cell_type": "code",
   "execution_count": null,
   "id": "9bcc8925",
   "metadata": {},
   "outputs": [],
   "source": []
  }
 ],
 "metadata": {
  "kernelspec": {
   "display_name": "Python 3 (ipykernel)",
   "language": "python",
   "name": "python3"
  },
  "language_info": {
   "codemirror_mode": {
    "name": "ipython",
    "version": 3
   },
   "file_extension": ".py",
   "mimetype": "text/x-python",
   "name": "python",
   "nbconvert_exporter": "python",
   "pygments_lexer": "ipython3",
   "version": "3.11.4"
  }
 },
 "nbformat": 4,
 "nbformat_minor": 5
}
